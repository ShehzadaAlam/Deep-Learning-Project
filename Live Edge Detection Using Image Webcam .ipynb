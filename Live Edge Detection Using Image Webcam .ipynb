{
 "cells": [
  {
   "cell_type": "code",
   "execution_count": 5,
   "metadata": {},
   "outputs": [],
   "source": [
    "#Loading the packages\n",
    "import matplotlib.image as inimg\n",
    "import matplotlib.pyplot as plt\n",
    "import numpy\n",
    "import cv2"
   ]
  },
  {
   "cell_type": "code",
   "execution_count": 6,
   "metadata": {},
   "outputs": [],
   "source": [
    "#This function will stylize the image into cartoon form\n",
    "def cartoon_image(image_input):\n",
    "    output_image = cv2.stylization(image_input,sigma_s=250,sigma_r=0.3)\n",
    "    return output_image"
   ]
  },
  {
   "cell_type": "code",
   "execution_count": 7,
   "metadata": {},
   "outputs": [],
   "source": [
    "#This fucntion will result in edge detection of image\n",
    "def live_edge_detection(image_input):\n",
    "    threshold1=0.1\n",
    "    threshold2=0.3\n",
    "    image_g = cv2.cvtColor(image_input,cv2.COLOR_BGR2GRAY)\n",
    "    output_image = cv2.Canny(image_g,threshold1,threshold2)\n",
    "    return output_image"
   ]
  },
  {
   "cell_type": "code",
   "execution_count": 4,
   "metadata": {},
   "outputs": [],
   "source": [
    "cap = cv2.VideoCapture(0) # Creating an object to turn webcam ON\n",
    "while True:\n",
    "    _,frame = cap.read() #Reading feed from webcam\n",
    "    cv2.imshow('Edge detection',live_edge_detection(frame)) #passing each frame to the live detection function to generate new images\n",
    "    #cv2.imshow('Edge detection',cartoon_image(frame))\n",
    "    if cv2.waitKey(1)==13: #An important step to break the loop as soon as the user press ENTER\n",
    "        break\n",
    "cap.release() #release the video feed\n",
    "cv2.destroyAllWindows() #cleaning up all frames"
   ]
  },
  {
   "cell_type": "code",
   "execution_count": null,
   "metadata": {},
   "outputs": [],
   "source": []
  }
 ],
 "metadata": {
  "kernelspec": {
   "display_name": "Python 3",
   "language": "python",
   "name": "python3"
  },
  "language_info": {
   "codemirror_mode": {
    "name": "ipython",
    "version": 3
   },
   "file_extension": ".py",
   "mimetype": "text/x-python",
   "name": "python",
   "nbconvert_exporter": "python",
   "pygments_lexer": "ipython3",
   "version": "3.7.3"
  }
 },
 "nbformat": 4,
 "nbformat_minor": 2
}
